{
 "cells": [
  {
   "cell_type": "code",
   "execution_count": 2,
   "metadata": {},
   "outputs": [],
   "source": [
    "# 데이터 준비\n",
    "import pyprind\n",
    "import pandas as pd\n",
    "from string import punctuation\n",
    "import re\n",
    "import numpy as np\n",
    "\n",
    "df = pd.read_csv('../Dataset/movie_data.csv', encoding = 'utf-8')"
   ]
  },
  {
   "cell_type": "code",
   "execution_count": 3,
   "metadata": {},
   "outputs": [
    {
     "data": {
      "text/html": [
       "<div>\n",
       "<style scoped>\n",
       "    .dataframe tbody tr th:only-of-type {\n",
       "        vertical-align: middle;\n",
       "    }\n",
       "\n",
       "    .dataframe tbody tr th {\n",
       "        vertical-align: top;\n",
       "    }\n",
       "\n",
       "    .dataframe thead th {\n",
       "        text-align: right;\n",
       "    }\n",
       "</style>\n",
       "<table border=\"1\" class=\"dataframe\">\n",
       "  <thead>\n",
       "    <tr style=\"text-align: right;\">\n",
       "      <th></th>\n",
       "      <th>review</th>\n",
       "      <th>sentiment</th>\n",
       "    </tr>\n",
       "  </thead>\n",
       "  <tbody>\n",
       "    <tr>\n",
       "      <th>0</th>\n",
       "      <td>'Tycus' is almost as bad as a science fiction ...</td>\n",
       "      <td>0</td>\n",
       "    </tr>\n",
       "    <tr>\n",
       "      <th>1</th>\n",
       "      <td>The Beguiled is a pretty satisfying film for t...</td>\n",
       "      <td>1</td>\n",
       "    </tr>\n",
       "    <tr>\n",
       "      <th>2</th>\n",
       "      <td>The 3-D featured in \"The Man Who Wasn't There\"...</td>\n",
       "      <td>0</td>\n",
       "    </tr>\n",
       "    <tr>\n",
       "      <th>3</th>\n",
       "      <td>I haven't seen a lot of episodes of \"Family Gu...</td>\n",
       "      <td>0</td>\n",
       "    </tr>\n",
       "    <tr>\n",
       "      <th>4</th>\n",
       "      <td>Although the beginning suggests All Quiet on t...</td>\n",
       "      <td>0</td>\n",
       "    </tr>\n",
       "  </tbody>\n",
       "</table>\n",
       "</div>"
      ],
      "text/plain": [
       "                                              review  sentiment\n",
       "0  'Tycus' is almost as bad as a science fiction ...          0\n",
       "1  The Beguiled is a pretty satisfying film for t...          1\n",
       "2  The 3-D featured in \"The Man Who Wasn't There\"...          0\n",
       "3  I haven't seen a lot of episodes of \"Family Gu...          0\n",
       "4  Although the beginning suggests All Quiet on t...          0"
      ]
     },
     "execution_count": 3,
     "metadata": {},
     "output_type": "execute_result"
    }
   ],
   "source": [
    "df.head()"
   ]
  },
  {
   "cell_type": "code",
   "execution_count": 5,
   "metadata": {},
   "outputs": [
    {
     "name": "stdout",
     "output_type": "stream",
     "text": [
      "Counter({'a': 1, 'b': 1, 'c': 1})\n",
      "1\n",
      "Counter({'a': 2, 'b': 2, 'c': 1})\n",
      "Counter({'c': 4, 'a': 2, 'b': 2})\n"
     ]
    },
    {
     "data": {
      "text/plain": [
       "[('c', 4)]"
      ]
     },
     "execution_count": 5,
     "metadata": {},
     "output_type": "execute_result"
    }
   ],
   "source": [
    "\"\"\" Counter로 고유 단어 추출 예제 \"\"\"\n",
    "from collections import Counter\n",
    "\n",
    "c = Counter()\n",
    "c.update('abc')\n",
    "print(c)\n",
    "print(c['a'])\n",
    "c.update(['a', 'b'])\n",
    "print(c)\n",
    "Counter({'a' : 2, 'b' : 2, 'c' : 1})\n",
    "c.update({'c' : 3})\n",
    "print(c)\n",
    "c.most_common(1)"
   ]
  },
  {
   "cell_type": "code",
   "execution_count": 6,
   "metadata": {},
   "outputs": [
    {
     "name": "stderr",
     "output_type": "stream",
     "text": [
      "단어의 등장 횟수를 카운트\n",
      "0% [##############################] 100% | ETA: 00:00:00\n",
      "Total time elapsed: 00:01:44\n",
      "리뷰를 정수로 매핑\n"
     ]
    },
    {
     "name": "stdout",
     "output_type": "stream",
     "text": [
      "['the', '.', ',', 'and', 'a']\n"
     ]
    },
    {
     "name": "stderr",
     "output_type": "stream",
     "text": [
      "0% [##############################] 100% | ETA: 00:00:00\n",
      "Total time elapsed: 00:00:02\n"
     ]
    }
   ],
   "source": [
    "# 데이터 전처리 - 단어를 나눠 등장 횟수 카운트\n",
    "from collections import Counter\n",
    "\n",
    "counts = Counter()\n",
    "pbar = pyprind.ProgBar(len(df['review']), title = '단어의 등장 횟수를 카운트')\n",
    "\n",
    "for i, review in enumerate(df['review']) : \n",
    "    text = ''.join([c if c not in punctuation else ' ' + c + ' ' for c in review]).lower()\n",
    "    df.loc[i, 'review'] = text\n",
    "    pbar.update()\n",
    "    counts.update(text.split())\n",
    "    \n",
    "# 고유한 단어를 정수로 매핑\n",
    "\n",
    "word_counts = sorted(counts, key = counts.get, reverse = True)\n",
    "print(word_counts[:5])\n",
    "word_to_int = {word: ii for ii, word in enumerate(word_counts, 1)}\n",
    "\n",
    "mapped_reviews = []\n",
    "pbar = pyprind.ProgBar(len(df['review']), title = '리뷰를 정수로 매핑')\n",
    "\n",
    "for review in df['review'] : \n",
    "    mapped_reviews.append([word_to_int[word] for word in review.split()])\n",
    "    pbar.update()"
   ]
  },
  {
   "cell_type": "code",
   "execution_count": 8,
   "metadata": {},
   "outputs": [],
   "source": [
    "# RNN 구조에 맞추기 위해 입력 데이터 길이를 동일하게 맞춰야함\n",
    "# 200으로 정리. 적으면 왼쪽 패딩. 많으면 마지막 오른쪽 사용\n",
    "# 200 -> 250으로 테스트\n",
    "\n",
    "sequence_length = 250 ## (RNN 공식 T 값 : 200)\n",
    "sequences = np.zeros((len(mapped_reviews), sequence_length), dtype = int)\n",
    "\n",
    "for i, row in enumerate(mapped_reviews) : \n",
    "    review_arr = np.array(row)\n",
    "    sequences[i, -len(row):] = review_arr[-sequence_length:]"
   ]
  },
  {
   "cell_type": "code",
   "execution_count": 12,
   "metadata": {},
   "outputs": [],
   "source": [
    "# 데이터셋 분리\n",
    "\n",
    "X_train = sequences[:37500, :]\n",
    "y_train = df.loc[:37499, 'sentiment'].values\n",
    "X_test = sequences[37500:, :]\n",
    "y_test = df.loc[37500:, 'sentiment'].values"
   ]
  },
  {
   "cell_type": "code",
   "execution_count": 13,
   "metadata": {},
   "outputs": [
    {
     "name": "stdout",
     "output_type": "stream",
     "text": [
      "(37500, 250) (37500,) (12500, 250) (12500,)\n"
     ]
    }
   ],
   "source": [
    "print(X_train.shape, y_train.shape, X_test.shape, y_test.shape)"
   ]
  },
  {
   "cell_type": "code",
   "execution_count": 14,
   "metadata": {},
   "outputs": [
    {
     "name": "stdout",
     "output_type": "stream",
     "text": [
      "102967\n"
     ]
    }
   ],
   "source": [
    "# word_to_int 딕셔너리 크기 확인\n",
    "\n",
    "n_words = len(word_to_int) + 1\n",
    "print(n_words)"
   ]
  },
  {
   "cell_type": "code",
   "execution_count": 15,
   "metadata": {},
   "outputs": [
    {
     "data": {
      "text/plain": [
       "array([[   63,   157,     2, ...,     6,    70,     2],\n",
       "       [  224,    18,   472, ...,  7963,  2356,     2],\n",
       "       [    0,     0,     0, ...,     6,   670,    29],\n",
       "       ...,\n",
       "       [  194, 14651,     7, ...,    71,   129,   160],\n",
       "       [   14,    10,     5, ...,   190,    20,     2],\n",
       "       [    3,    14,    10, ...,   196,    42,     2]])"
      ]
     },
     "execution_count": 15,
     "metadata": {},
     "output_type": "execute_result"
    }
   ],
   "source": [
    "sequences"
   ]
  },
  {
   "cell_type": "code",
   "execution_count": 18,
   "metadata": {},
   "outputs": [],
   "source": [
    "# embedding 층 만들기\n",
    "from tensorflow.keras import models, layers\n",
    "\n",
    "model = models.Sequential()\n",
    "model.add(layers.Embedding(n_words, 200, embeddings_regularizer = 'l2')) # 어휘 사전 크기, 출력 크기"
   ]
  },
  {
   "cell_type": "code",
   "execution_count": 19,
   "metadata": {},
   "outputs": [
    {
     "name": "stdout",
     "output_type": "stream",
     "text": [
      "Model: \"sequential_1\"\n",
      "_________________________________________________________________\n",
      "Layer (type)                 Output Shape              Param #   \n",
      "=================================================================\n",
      "embedding_1 (Embedding)      (None, None, 200)         20593400  \n",
      "=================================================================\n",
      "Total params: 20,593,400\n",
      "Trainable params: 20,593,400\n",
      "Non-trainable params: 0\n",
      "_________________________________________________________________\n"
     ]
    }
   ],
   "source": [
    "model.summary()"
   ]
  },
  {
   "cell_type": "code",
   "execution_count": 20,
   "metadata": {},
   "outputs": [
    {
     "name": "stdout",
     "output_type": "stream",
     "text": [
      "Model: \"sequential_1\"\n",
      "_________________________________________________________________\n",
      "Layer (type)                 Output Shape              Param #   \n",
      "=================================================================\n",
      "embedding_1 (Embedding)      (None, None, 200)         20593400  \n",
      "_________________________________________________________________\n",
      "lstm (LSTM)                  (None, 16)                13888     \n",
      "_________________________________________________________________\n",
      "flatten (Flatten)            (None, 16)                0         \n",
      "_________________________________________________________________\n",
      "dense (Dense)                (None, 1)                 17        \n",
      "=================================================================\n",
      "Total params: 20,607,305\n",
      "Trainable params: 20,607,305\n",
      "Non-trainable params: 0\n",
      "_________________________________________________________________\n"
     ]
    }
   ],
   "source": [
    "# RNN 모델 만들기\n",
    "\n",
    "model.add(layers.LSTM(16)) # 유닛 갯수\n",
    "model.add(layers.Flatten())\n",
    "model.add(layers.Dense(1, activation = 'sigmoid'))\n",
    "\n",
    "model. summary()\n",
    "# W_xf = (16, 200), W_hf = (16, 16), b_f = (16,) => 16*200 + 16*16 + 16 = 3472, 3472 * 4 = 13888\n",
    "# (f, i, g, o 4개)"
   ]
  },
  {
   "cell_type": "code",
   "execution_count": 21,
   "metadata": {},
   "outputs": [],
   "source": [
    "model.compile(loss = 'binary_crossentropy', optimizer = 'adam', metrics = ['acc'])"
   ]
  },
  {
   "cell_type": "code",
   "execution_count": 22,
   "metadata": {},
   "outputs": [
    {
     "name": "stdout",
     "output_type": "stream",
     "text": [
      "Train on 26250 samples, validate on 11250 samples\n",
      "Epoch 1/10\n"
     ]
    },
    {
     "name": "stderr",
     "output_type": "stream",
     "text": [
      "C:\\Anaconda3\\envs\\py37\\lib\\site-packages\\tensorflow_core\\python\\framework\\indexed_slices.py:424: UserWarning: Converting sparse IndexedSlices to a dense Tensor of unknown shape. This may consume a large amount of memory.\n",
      "  \"Converting sparse IndexedSlices to a dense Tensor of unknown shape. \"\n",
      "C:\\Anaconda3\\envs\\py37\\lib\\site-packages\\tensorflow_core\\python\\framework\\indexed_slices.py:424: UserWarning: Converting sparse IndexedSlices to a dense Tensor of unknown shape. This may consume a large amount of memory.\n",
      "  \"Converting sparse IndexedSlices to a dense Tensor of unknown shape. \"\n"
     ]
    },
    {
     "name": "stdout",
     "output_type": "stream",
     "text": [
      "26250/26250 [==============================] - 138s 5ms/sample - loss: 6.5374 - acc: 0.7115 - val_loss: 0.6907 - val_acc: 0.7970\n",
      "Epoch 2/10\n",
      "26250/26250 [==============================] - 139s 5ms/sample - loss: 0.6508 - acc: 0.8223 - val_loss: 0.6068 - val_acc: 0.8470\n",
      "Epoch 3/10\n",
      "26250/26250 [==============================] - 134s 5ms/sample - loss: 0.5856 - acc: 0.8421 - val_loss: 0.5598 - val_acc: 0.8476\n",
      "Epoch 4/10\n",
      "26250/26250 [==============================] - 134s 5ms/sample - loss: 0.5294 - acc: 0.8598 - val_loss: 0.5299 - val_acc: 0.8592\n",
      "Epoch 5/10\n",
      "26250/26250 [==============================] - 145s 6ms/sample - loss: 0.5011 - acc: 0.8705 - val_loss: 0.5852 - val_acc: 0.8335\n",
      "Epoch 6/10\n",
      "26250/26250 [==============================] - 142s 5ms/sample - loss: 0.4929 - acc: 0.8757 - val_loss: 0.5187 - val_acc: 0.8488\n",
      "Epoch 7/10\n",
      "26250/26250 [==============================] - 140s 5ms/sample - loss: 0.4782 - acc: 0.8784 - val_loss: 0.4759 - val_acc: 0.8799\n",
      "Epoch 8/10\n",
      "26250/26250 [==============================] - 142s 5ms/sample - loss: 0.4727 - acc: 0.8825 - val_loss: 0.4871 - val_acc: 0.8723\n",
      "Epoch 9/10\n",
      "26250/26250 [==============================] - 141s 5ms/sample - loss: 0.4658 - acc: 0.8874 - val_loss: 0.4841 - val_acc: 0.8734\n",
      "Epoch 10/10\n",
      "26250/26250 [==============================] - 140s 5ms/sample - loss: 0.4591 - acc: 0.8877 - val_loss: 0.4753 - val_acc: 0.8728\n"
     ]
    }
   ],
   "source": [
    "history = model.fit(X_train, y_train,\n",
    "                   batch_size = 64, epochs = 10,\n",
    "                   validation_split = 0.3)"
   ]
  },
  {
   "cell_type": "code",
   "execution_count": 23,
   "metadata": {},
   "outputs": [
    {
     "data": {
      "image/png": "[encoded data removed]",
      "text/plain": [
       "<Figure size 432x288 with 1 Axes>"
      ]
     },
     "metadata": {
      "needs_background": "light"
     },
     "output_type": "display_data"
    }
   ],
   "source": [
    "# 모델 평가\n",
    "import matplotlib.pyplot as plt\n",
    "\n",
    "epochs = np.arange(1, 11)\n",
    "plt.plot(epochs, history.history['loss'])\n",
    "plt.plot(epochs, history.history['val_loss'])\n",
    "plt.xlabel('epochs')\n",
    "plt.ylabel('loss')\n",
    "plt.show()"
   ]
  },
  {
   "cell_type": "code",
   "execution_count": 24,
   "metadata": {},
   "outputs": [
    {
     "data": {
      "image/png": "[encoded data removed]",
      "text/plain": [
       "<Figure size 432x288 with 1 Axes>"
      ]
     },
     "metadata": {
      "needs_background": "light"
     },
     "output_type": "display_data"
    }
   ],
   "source": [
    "plt.plot(epochs, history.history['acc'])\n",
    "plt.plot(epochs, history.history['val_acc'])\n",
    "plt.xlabel('epochs')\n",
    "plt.ylabel('loss')\n",
    "plt.show()"
   ]
  },
  {
   "cell_type": "code",
   "execution_count": 25,
   "metadata": {},
   "outputs": [
    {
     "data": {
      "text/plain": [
       "array([[0.00872722],\n",
       "       [0.61440873],\n",
       "       [0.03897047],\n",
       "       [0.99547875],\n",
       "       [0.27757314],\n",
       "       [0.63013285],\n",
       "       [0.9704331 ],\n",
       "       [0.24660537],\n",
       "       [0.97897834],\n",
       "       [0.6577512 ]], dtype=float32)"
      ]
     },
     "execution_count": 25,
     "metadata": {},
     "output_type": "execute_result"
    }
   ],
   "source": [
    "model.predict_proba(X_test[:10])"
   ]
  },
  {
   "cell_type": "code",
   "execution_count": 26,
   "metadata": {},
   "outputs": [
    {
     "data": {
      "text/plain": [
       "array([[0],\n",
       "       [1],\n",
       "       [0],\n",
       "       [1],\n",
       "       [0],\n",
       "       [1],\n",
       "       [1],\n",
       "       [0],\n",
       "       [1],\n",
       "       [1]])"
      ]
     },
     "execution_count": 26,
     "metadata": {},
     "output_type": "execute_result"
    }
   ],
   "source": [
    "model.predict_classes(X_test[:10])"
   ]
  },
  {
   "cell_type": "code",
   "execution_count": null,
   "metadata": {},
   "outputs": [],
   "source": []
  }
 ],
 "metadata": {
  "kernelspec": {
   "display_name": "Python 3",
   "language": "python",
   "name": "python3"
  },
  "language_info": {
   "codemirror_mode": {
    "name": "ipython",
    "version": 3
   },
   "file_extension": ".py",
   "mimetype": "text/x-python",
   "name": "python",
   "nbconvert_exporter": "python",
   "pygments_lexer": "ipython3",
   "version": "3.7.9"
  }
 },
 "nbformat": 4,
 "nbformat_minor": 4
}

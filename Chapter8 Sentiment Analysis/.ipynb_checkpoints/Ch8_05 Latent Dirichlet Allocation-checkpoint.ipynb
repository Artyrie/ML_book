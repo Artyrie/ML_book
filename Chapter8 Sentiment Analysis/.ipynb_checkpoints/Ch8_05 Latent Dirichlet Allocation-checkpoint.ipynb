{
 "cells": [
  {
   "cell_type": "code",
   "execution_count": 2,
   "metadata": {},
   "outputs": [],
   "source": [
    "\"\"\" BoW 행렬 만들기 \"\"\"\n",
    "import pandas as pd\n",
    "from sklearn.feature_extraction.text import CountVectorizer\n",
    "\n",
    "df = pd.read_csv('movie_data.csv', encoding = 'utf-8')\n",
    "count = CountVectorizer(stop_words = 'english',\n",
    "                        max_df = .1, max_features = 5000)\n",
    "# max_df는 단어의 최대 문서 빈도\n",
    "# 10%로 지정하여 너무 자주 등장하는 단어를 제외했다.\n",
    "# 또한 max_feature를 통해 자주 등장하는 단어를 5000개로 제한했다.\n",
    "X = count.fit_transform(df['review'].values)"
   ]
  },
  {
   "cell_type": "code",
   "execution_count": 3,
   "metadata": {},
   "outputs": [],
   "source": [
    "\"\"\" LDA 추정기를 BoW 행렬에 학습 \"\"\"\n",
    "from sklearn.decomposition import LatentDirichletAllocation\n",
    "\n",
    "lda = LatentDirichletAllocation(n_components = 10,\n",
    "                               random_state = 123,\n",
    "                               learning_method = 'batch')\n",
    "X_topics = lda.fit_transform(X)\n",
    "# X_topics의 크기는 전체 문서 5만개에 토픽 개수 10개로 (50000, 10) 이다."
   ]
  },
  {
   "cell_type": "code",
   "execution_count": 4,
   "metadata": {},
   "outputs": [
    {
     "name": "stdout",
     "output_type": "stream",
     "text": [
      "토픽 1 : \n",
      "worst minutes awful script stupid\n",
      "토픽 2 : \n",
      "family mother father girl children\n",
      "토픽 3 : \n",
      "american war dvd music tv\n",
      "토픽 4 : \n",
      "human audience cinema art feel\n",
      "토픽 5 : \n",
      "police guy car dead murder\n",
      "토픽 6 : \n",
      "horror house sex gore blood\n",
      "토픽 7 : \n",
      "role performance comedy actor performances\n",
      "토픽 8 : \n",
      "series episode episodes war tv\n",
      "토픽 9 : \n",
      "book version original effects read\n",
      "토픽 10 : \n",
      "action fight guy guys cool\n"
     ]
    }
   ],
   "source": [
    "\"\"\" 토픽에서 가장 중요한 단어 추려보기 \"\"\"\n",
    "\n",
    "n_top_words = 5\n",
    "feature_names = count.get_feature_names()\n",
    "\n",
    "for topic_idx, topic in enumerate(lda.components_) : \n",
    "    print(\"토픽 %d : \" % (topic_idx + 1))\n",
    "    print(\" \".join([feature_names[i] for i in topic.argsort() [:-n_top_words - 1 : -1]]))\n",
    "    "
   ]
  },
  {
   "cell_type": "code",
   "execution_count": 7,
   "metadata": {},
   "outputs": [
    {
     "name": "stdout",
     "output_type": "stream",
     "text": [
      "\n",
      "공포 영화 #1: \n",
      "House of Dracula works from the same basic premise as House of Frankenstein from the year before; namely that Universal's three most famous monsters; Dracula, Frankenstein's Monster and The Wolf Man are appearing in the movie together. Naturally, the film is rather messy therefore, but the fact that ...\n",
      "\n",
      "공포 영화 #2: \n",
      "This film marked the end of the \"serious\" Universal Monsters era (Abbott and Costello meet up with the monsters later in \"Abbott and Costello Meet Frankentstein\"). It was a somewhat desparate, yet fun attempt to revive the classic monsters of the Wolf Man, Frankenstein's monster, and Dracula one \"la ...\n",
      "\n",
      "공포 영화 #3: \n",
      "This film marked the end of the \"serious\" Universal Monsters era (Abbott and Costello meet up with the monsters later in \"Abbott and Costello Meet Frankentstein\"). It was a somewhat desparate, yet fun attempt to revive the classic monsters of the Wolf Man, Frankenstein's monster, and Dracula one \"la ...\n"
     ]
    }
   ],
   "source": [
    "\"\"\" 공포로 추정되는 6번 토픽 리뷰 확인해보기 \"\"\"\n",
    "\n",
    "horror = X_topics[:, 5].argsort()[::-1]\n",
    "\n",
    "for iter_idx, movie_idx in enumerate(horror[:3]) : \n",
    "    print('\\n공포 영화 #%d: ' % (iter_idx + 1))\n",
    "    print(df['review'][movie_idx][:300], '...')"
   ]
  },
  {
   "cell_type": "code",
   "execution_count": null,
   "metadata": {},
   "outputs": [],
   "source": []
  }
 ],
 "metadata": {
  "kernelspec": {
   "display_name": "Python 3",
   "language": "python",
   "name": "python3"
  },
  "language_info": {
   "codemirror_mode": {
    "name": "ipython",
    "version": 3
   },
   "file_extension": ".py",
   "mimetype": "text/x-python",
   "name": "python",
   "nbconvert_exporter": "python",
   "pygments_lexer": "ipython3",
   "version": "3.7.2"
  }
 },
 "nbformat": 4,
 "nbformat_minor": 4
}

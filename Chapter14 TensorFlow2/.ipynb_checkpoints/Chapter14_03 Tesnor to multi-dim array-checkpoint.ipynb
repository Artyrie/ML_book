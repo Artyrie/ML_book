{
 "cells": [
  {
   "cell_type": "code",
   "execution_count": 1,
   "metadata": {},
   "outputs": [
    {
     "name": "stdout",
     "output_type": "stream",
     "text": [
      "tf.Tensor(\n",
      "[[1.  2.  3.  3.5]\n",
      " [4.  5.  6.  6.5]\n",
      " [7.  8.  9.  9.5]], shape=(3, 4), dtype=float64)\n",
      "T1의 크기 :  (3, 4)\n",
      "T1의 크기 :  (3, 4)\n",
      "<tf.Variable 'Variable:0' shape=(3, 4) dtype=float64, numpy=\n",
      "array([[-0.21814961, -0.25141768,  0.16855607,  1.36564548],\n",
      "       [-0.66594322,  0.35686844,  2.15146667,  0.17284658],\n",
      "       [-1.71496558,  0.35019117, -1.4419765 ,  1.04538788]])>\n",
      "<tf.Variable 'Variable:0' shape=(3,) dtype=float64, numpy=array([-1.14427494, -0.86414194, -0.0871297 ])>\n"
     ]
    }
   ],
   "source": [
    "import tensorflow as tf\n",
    "import numpy as np\n",
    "\n",
    "arr = np.array([[1., 2., 3., 3.5],\n",
    "               [4., 5., 6., 6.5],\n",
    "               [7. ,8. ,9., 9.5]])\n",
    "T1 = tf.constant(arr)\n",
    "print(T1)\n",
    "\n",
    "s = T1.get_shape()\n",
    "print('T1의 크기 : ', s)\n",
    "print('T1의 크기 : ', T1.shape)\n",
    "\n",
    "T2 = tf.Variable(np.random.normal(size = s))\n",
    "print(T2)\n",
    "\n",
    "T3 = tf.Variable(np.random.normal(size = s[0]))\n",
    "print(T3)"
   ]
  },
  {
   "cell_type": "code",
   "execution_count": 2,
   "metadata": {},
   "outputs": [
    {
     "name": "stdout",
     "output_type": "stream",
     "text": [
      "tf.Tensor([[[1.  2.  3.  3.5 4.  5.  6.  6.5 7.  8.  9.  9.5]]], shape=(1, 1, 12), dtype=float64)\n",
      "tf.Tensor(\n",
      "[[[1.  2.  3.  3.5]\n",
      "  [4.  5.  6.  6.5]\n",
      "  [7.  8.  9.  9.5]]], shape=(1, 3, 4), dtype=float64)\n"
     ]
    }
   ],
   "source": [
    "# Reshape\n",
    "\n",
    "T4 = tf.reshape(T1, shape = [1, 1, -1])\n",
    "print(T4)\n",
    "\n",
    "T5 = tf.reshape(T1, shape = [1, 3, -1])\n",
    "print(T5)"
   ]
  },
  {
   "cell_type": "code",
   "execution_count": 3,
   "metadata": {},
   "outputs": [
    {
     "name": "stdout",
     "output_type": "stream",
     "text": [
      "tf.Tensor(\n",
      "[[[1. ]\n",
      "  [4. ]\n",
      "  [7. ]]\n",
      "\n",
      " [[2. ]\n",
      "  [5. ]\n",
      "  [8. ]]\n",
      "\n",
      " [[3. ]\n",
      "  [6. ]\n",
      "  [9. ]]\n",
      "\n",
      " [[3.5]\n",
      "  [6.5]\n",
      "  [9.5]]], shape=(4, 3, 1), dtype=float64)\n",
      "tf.Tensor(\n",
      "[[[1.  4.  7. ]\n",
      "  [2.  5.  8. ]\n",
      "  [3.  6.  9. ]\n",
      "  [3.5 6.5 9.5]]], shape=(1, 4, 3), dtype=float64)\n"
     ]
    }
   ],
   "source": [
    "# Transpose\n",
    "\n",
    "T6 = tf.transpose(T5, perm = [2, 1, 0])\n",
    "print(T6)\n",
    "\n",
    "T7 = tf.transpose(T5, perm = [0, 2, 1])\n",
    "print(T7)"
   ]
  },
  {
   "cell_type": "code",
   "execution_count": 4,
   "metadata": {},
   "outputs": [
    {
     "name": "stdout",
     "output_type": "stream",
     "text": [
      "[<tf.Tensor: id=28, shape=(1, 3, 2), dtype=float64, numpy=\n",
      "array([[[1., 2.],\n",
      "        [4., 5.],\n",
      "        [7., 8.]]])>, <tf.Tensor: id=29, shape=(1, 3, 2), dtype=float64, numpy=\n",
      "array([[[3. , 3.5],\n",
      "        [6. , 6.5],\n",
      "        [9. , 9.5]]])>]\n"
     ]
    }
   ],
   "source": [
    "# Split\n",
    "\n",
    "t5_splt = tf.split(T5, num_or_size_splits = 2, axis = 2)\n",
    "print(t5_splt)"
   ]
  },
  {
   "cell_type": "code",
   "execution_count": 6,
   "metadata": {},
   "outputs": [
    {
     "name": "stdout",
     "output_type": "stream",
     "text": [
      "tf.Tensor(\n",
      "[[1.]\n",
      " [1.]\n",
      " [1.]\n",
      " [1.]\n",
      " [1.]], shape=(5, 1), dtype=float32)\n",
      "tf.Tensor(\n",
      "[[0.]\n",
      " [0.]\n",
      " [0.]\n",
      " [0.]\n",
      " [0.]], shape=(5, 1), dtype=float32)\n",
      "tf.Tensor(\n",
      "[[1.]\n",
      " [1.]\n",
      " [1.]\n",
      " [1.]\n",
      " [1.]\n",
      " [0.]\n",
      " [0.]\n",
      " [0.]\n",
      " [0.]\n",
      " [0.]], shape=(10, 1), dtype=float32)\n",
      "tf.Tensor(\n",
      "[[1. 0.]\n",
      " [1. 0.]\n",
      " [1. 0.]\n",
      " [1. 0.]\n",
      " [1. 0.]], shape=(5, 2), dtype=float32)\n"
     ]
    }
   ],
   "source": [
    "# Cancat\n",
    "\n",
    "t1 = tf.ones(shape = (5, 1), dtype = tf.float32)\n",
    "t2 = tf.zeros(shape = (5, 1), dtype = tf.float32)\n",
    "print(t1)\n",
    "print(t2)\n",
    "\n",
    "t3 = tf.concat([t1, t2], axis = 0)\n",
    "print(t3)\n",
    "t4 = tf.concat([t1, t2], axis = 1)\n",
    "print(t4)"
   ]
  },
  {
   "cell_type": "code",
   "execution_count": null,
   "metadata": {},
   "outputs": [],
   "source": []
  }
 ],
 "metadata": {
  "kernelspec": {
   "display_name": "Python 3",
   "language": "python",
   "name": "python3"
  },
  "language_info": {
   "codemirror_mode": {
    "name": "ipython",
    "version": 3
   },
   "file_extension": ".py",
   "mimetype": "text/x-python",
   "name": "python",
   "nbconvert_exporter": "python",
   "pygments_lexer": "ipython3",
   "version": "3.7.9"
  }
 },
 "nbformat": 4,
 "nbformat_minor": 4
}

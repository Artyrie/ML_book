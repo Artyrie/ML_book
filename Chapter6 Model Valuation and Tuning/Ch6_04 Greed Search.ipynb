{
 "cells": [
  {
   "cell_type": "code",
   "execution_count": 2,
   "metadata": {},
   "outputs": [
    {
     "name": "stdout",
     "output_type": "stream",
     "text": [
      "['B' 'M']\n",
      "[1 0]\n"
     ]
    }
   ],
   "source": [
    "\"\"\" 유방암 데이터 정리 \"\"\"\n",
    "import pandas as pd\n",
    "from sklearn.preprocessing import LabelEncoder\n",
    "from sklearn.model_selection import train_test_split\n",
    "\n",
    "df = pd.read_csv('../dataset/wdbc.data', header = None)\n",
    "X = df.loc[:, 2:].values\n",
    "y = df.loc[:, 1].values\n",
    "\n",
    "# 클래스 레이블 문자열을 정수로 변환\n",
    "le = LabelEncoder()\n",
    "y = le.fit_transform(y)\n",
    "print(le.classes_)\n",
    "print(le.transform(['M', 'B']))\n",
    "\n",
    "# 데이터 쪼개기\n",
    "X_train, X_test, y_train, y_test = train_test_split(X, y, test_size = 0.20, stratify = y, random_state = 1)"
   ]
  },
  {
   "cell_type": "code",
   "execution_count": 4,
   "metadata": {},
   "outputs": [
    {
     "name": "stdout",
     "output_type": "stream",
     "text": [
      "0.9846859903381642\n",
      "{'svc__C': 100.0, 'svc__gamma': 0.001, 'svc__kernel': 'rbf'}\n"
     ]
    }
   ],
   "source": [
    "\"\"\" 그리드 서치를 사용해 세부 튜닝하기 \"\"\"\n",
    "\n",
    "from sklearn.model_selection import GridSearchCV\n",
    "from sklearn.svm import SVC\n",
    "from sklearn.pipeline import make_pipeline\n",
    "from sklearn.preprocessing import StandardScaler\n",
    "from sklearn.linear_model import LogisticRegression\n",
    "import numpy as np\n",
    "\n",
    "pipe_svc = make_pipeline(StandardScaler(), SVC (random_state = 1))\n",
    "param_range = [0.0001, 0.001, 0.01, 0.1,\n",
    "              1.0, 10.0, 100.0, 1000.0]\n",
    "param_grid = [{'svc__C' : param_range, 'svc__kernel' : ['linear']},\n",
    "             {'svc__C' : param_range, 'svc__gamma' : param_range, 'svc__kernel' : ['rbf']}]\n",
    "gs = GridSearchCV(estimator = pipe_svc, param_grid = param_grid, scoring = 'accuracy',\n",
    "                 cv = 10, n_jobs = 1)\n",
    "gs = gs.fit(X_train, y_train)\n",
    "print(gs.best_score_)\n",
    "print(gs.best_params_)"
   ]
  },
  {
   "cell_type": "code",
   "execution_count": 5,
   "metadata": {},
   "outputs": [
    {
     "name": "stdout",
     "output_type": "stream",
     "text": [
      "테스트 정확도 : 0.974\n"
     ]
    }
   ],
   "source": [
    "\"\"\" 테스트 세트로 최고 모델의 성능 추정 \"\"\"\n",
    "\n",
    "clf = gs.best_estimator_\n",
    "clf.fit(X_train, y_train)\n",
    "print('테스트 정확도 : %.3f' % clf.score(X_test, y_test))"
   ]
  },
  {
   "cell_type": "code",
   "execution_count": 7,
   "metadata": {},
   "outputs": [
    {
     "name": "stdout",
     "output_type": "stream",
     "text": [
      "CV 정확도 : 0.974 +/- 0.015\n"
     ]
    }
   ],
   "source": [
    "\"\"\" 중첩 교차 검증 \"\"\"\n",
    "from sklearn.model_selection import cross_val_score\n",
    "\n",
    "gs = GridSearchCV(estimator = pipe_svc, param_grid = param_grid,\n",
    "                 scoring = 'accuracy', cv = 2)\n",
    "scores = cross_val_score(gs, X_train, y_train, scoring = 'accuracy', cv = 5)\n",
    "print('CV 정확도 : %.3f +/- %.3f' % (np.mean(scores), np.std(scores)))"
   ]
  },
  {
   "cell_type": "code",
   "execution_count": 10,
   "metadata": {},
   "outputs": [
    {
     "name": "stdout",
     "output_type": "stream",
     "text": [
      "CV 정확도 : 0.934 +/- 0.016\n",
      "따라서 이 데이터에는 SVM이 나은 판단임을 알 수 있다.\n"
     ]
    }
   ],
   "source": [
    "\"\"\" 결정트리에 적용해보기 \"\"\"\n",
    "from sklearn.tree import DecisionTreeClassifier\n",
    "\n",
    "gs = GridSearchCV(estimator = DecisionTreeClassifier(random_state = 0),\n",
    "                 param_grid = [{'max_depth' : [1, 2, 3, 4, 5, 6, 7, None]}],\n",
    "                 scoring = 'accuracy', cv = 2)\n",
    "scores = cross_val_score(gs, X_train, y_train, scoring = 'accuracy', cv = 5)\n",
    "print('CV 정확도 : %.3f +/- %.3f' % (np.mean(scores), np.std(scores)))\n",
    "\n",
    "print('따라서 이 데이터에는 SVM이 나은 판단임을 알 수 있다.')"
   ]
  },
  {
   "cell_type": "code",
   "execution_count": null,
   "metadata": {},
   "outputs": [],
   "source": []
  }
 ],
 "metadata": {
  "kernelspec": {
   "display_name": "Python 3",
   "language": "python",
   "name": "python3"
  },
  "language_info": {
   "codemirror_mode": {
    "name": "ipython",
    "version": 3
   },
   "file_extension": ".py",
   "mimetype": "text/x-python",
   "name": "python",
   "nbconvert_exporter": "python",
   "pygments_lexer": "ipython3",
   "version": "3.7.6"
  }
 },
 "nbformat": 4,
 "nbformat_minor": 4
}

{
 "cells": [
  {
   "cell_type": "code",
   "execution_count": 7,
   "metadata": {},
   "outputs": [
    {
     "name": "stdout",
     "output_type": "stream",
     "text": [
      "['B' 'M']\n",
      "[1 0]\n"
     ]
    }
   ],
   "source": [
    "\"\"\" 유방암 데이터 정리 \"\"\"\n",
    "import pandas as pd\n",
    "from sklearn.preprocessing import LabelEncoder\n",
    "from sklearn.model_selection import train_test_split\n",
    "\n",
    "df = pd.read_csv('../dataset/wdbc.data', header = None)\n",
    "X = df.loc[:, 2:].values\n",
    "y = df.loc[:, 1].values\n",
    "\n",
    "# 클래스 레이블 문자열을 정수로 변환\n",
    "le = LabelEncoder()\n",
    "y = le.fit_transform(y)\n",
    "print(le.classes_)\n",
    "print(le.transform(['M', 'B']))\n",
    "\n",
    "# 데이터 쪼개기\n",
    "X_train, X_test, y_train, y_test = train_test_split(X, y, test_size = 0.20, stratify = y, random_state = 1)"
   ]
  },
  {
   "cell_type": "code",
   "execution_count": 9,
   "metadata": {},
   "outputs": [
    {
     "name": "stdout",
     "output_type": "stream",
     "text": [
      "테스트 정확도 : 0.956\n"
     ]
    }
   ],
   "source": [
    "\"\"\" 파이프라인으로 변환기와 추정기 연결하기 \"\"\"\n",
    "from sklearn.preprocessing import StandardScaler\n",
    "from sklearn.decomposition import PCA\n",
    "from sklearn.linear_model import LogisticRegression\n",
    "from sklearn.pipeline import make_pipeline\n",
    "\n",
    "pipe_lr = make_pipeline(StandardScaler(), PCA(n_components = 2),\n",
    "                       LogisticRegression(solver = 'liblinear', random_state = 1))\n",
    "pipe_lr.fit(X_train, y_train)\n",
    "# make_pipeline arg에 표준화를 위한 StandardScaler, 차원 축소를 위한 PCA\n",
    "# 그리고 훈련 모델인 LogisticRegression이 들어갔다.\n",
    "\n",
    "y_pred = pipe_lr.predict(X_test)\n",
    "print('테스트 정확도 : %.3f' % pipe_lr.score(X_test, y_test))"
   ]
  },
  {
   "cell_type": "code",
   "execution_count": null,
   "metadata": {},
   "outputs": [],
   "source": []
  }
 ],
 "metadata": {
  "kernelspec": {
   "display_name": "Python 3",
   "language": "python",
   "name": "python3"
  },
  "language_info": {
   "codemirror_mode": {
    "name": "ipython",
    "version": 3
   },
   "file_extension": ".py",
   "mimetype": "text/x-python",
   "name": "python",
   "nbconvert_exporter": "python",
   "pygments_lexer": "ipython3",
   "version": "3.7.6"
  }
 },
 "nbformat": 4,
 "nbformat_minor": 4
}

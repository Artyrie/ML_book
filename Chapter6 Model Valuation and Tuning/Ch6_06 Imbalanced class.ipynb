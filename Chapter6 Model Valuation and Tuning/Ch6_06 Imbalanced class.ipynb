{
 "cells": [
  {
   "cell_type": "code",
   "execution_count": 11,
   "metadata": {},
   "outputs": [
    {
     "name": "stdout",
     "output_type": "stream",
     "text": [
      "정확도 : 89.924\n",
      "정확도가 모델 선택에 별 의미가 없다.\n"
     ]
    }
   ],
   "source": [
    "\"\"\" 불균형 유방암 데이터 정리 \"\"\"\n",
    "import pandas as pd\n",
    "from sklearn.preprocessing import LabelEncoder\n",
    "from sklearn.model_selection import train_test_split\n",
    "import numpy as np\n",
    "\n",
    "df = pd.read_csv('../dataset/wdbc.data', header = None)\n",
    "X = df.loc[:, 2:].values\n",
    "y = df.loc[:, 1].values\n",
    "\n",
    "le = LabelEncoder()\n",
    "y = le.fit_transform(y)\n",
    "\n",
    "X_imb = np.vstack((X[y == 0], X[y == 1][:40]))\n",
    "y_imb = np.hstack((y[y == 0], y[y == 1][:40]))\n",
    "# 357개의 양성 종양 샘플 전체와 40개의 악성 종양 샘플을 연결\n",
    "# 불균형이 심한 데이터셋을 구성\n",
    "                     \n",
    "y_pred = np.zeros(y_imb.shape[0])\n",
    "print('정확도 : %0.3f' % (np.mean(y_pred == y_imb) * 100))\n",
    "print('정확도가 모델 선택에 별 의미가 없다.')"
   ]
  },
  {
   "cell_type": "code",
   "execution_count": 16,
   "metadata": {},
   "outputs": [
    {
     "name": "stdout",
     "output_type": "stream",
     "text": [
      "샘플링하기 전 클래스 1의 갬플 개수 :  40\n",
      "샘플링한 후 클래스 1의 샘플 개수 :  357\n",
      "정확도 : 50.000\n"
     ]
    }
   ],
   "source": [
    "\"\"\" 사이킷런의 resample로 균형있게 만들기 \"\"\"\n",
    "from sklearn.utils import resample\n",
    "\n",
    "print('샘플링하기 전 클래스 1의 갬플 개수 : ', X_imb[y_imb == 1].shape[0])\n",
    "\n",
    "X_upsampled, y_upsampled = resample(X_imb[y_imb == 1], y_imb[y_imb == 1],\n",
    "                                   replace = True,\n",
    "                                    n_samples = X_imb[y_imb == 0].shape[0],\n",
    "                                   random_state = 123)\n",
    "# 다운 샘플링도 가능. 클래스를 바꾸면 된다.\n",
    "\n",
    "print('샘플링한 후 클래스 1의 샘플 개수 : ', X_upsampled.shape[0])\n",
    "\n",
    "X_bal = np.vstack((X[y == 0], X_upsampled))\n",
    "y_bal = np.hstack((y[y == 0], y_upsampled))\n",
    "\n",
    "y_pred = np.zeros(y_bal.shape[0])\n",
    "print('정확도 : %0.3f' % (np.mean(y_pred == y_bal) * 100))"
   ]
  },
  {
   "cell_type": "code",
   "execution_count": null,
   "metadata": {},
   "outputs": [],
   "source": []
  }
 ],
 "metadata": {
  "kernelspec": {
   "display_name": "Python 3",
   "language": "python",
   "name": "python3"
  },
  "language_info": {
   "codemirror_mode": {
    "name": "ipython",
    "version": 3
   },
   "file_extension": ".py",
   "mimetype": "text/x-python",
   "name": "python",
   "nbconvert_exporter": "python",
   "pygments_lexer": "ipython3",
   "version": "3.7.6"
  }
 },
 "nbformat": 4,
 "nbformat_minor": 4
}

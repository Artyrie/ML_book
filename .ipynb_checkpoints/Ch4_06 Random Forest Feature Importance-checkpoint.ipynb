{
 "cells": [
  {
   "cell_type": "code",
   "execution_count": 19,
   "metadata": {},
   "outputs": [],
   "source": [
    "\"\"\" 와인 데이터 정리 \"\"\"\n",
    "import pandas as pd\n",
    "import numpy as np\n",
    "from sklearn.model_selection import train_test_split\n",
    "\n",
    "df_wine = pd.read_csv('wine.data', header = None)\n",
    "df_wine.columns = ['Class label', 'Alcohol',\n",
    "                  'Malic acid', 'Ash',\n",
    "                  'Alcalinity of ash', 'Magnesium',\n",
    "                  'Total phenols', 'Flavanoids',\n",
    "                  'Nonflavanoid phenols',\n",
    "                  'Proanthocyanins',\n",
    "                  'Color intensity', 'Hue',\n",
    "                  'OD280/OD315 of diluted wines',\n",
    "                  'Proline']\n",
    "\n",
    "X, y = df_wine.iloc[:, 1:].values, df_wine.iloc[:, 0].values\n",
    "X_train, X_test, y_train, y_test = train_test_split(X, y, test_size = 0.3, random_state = 1, stratify = y)"
   ]
  },
  {
   "cell_type": "code",
   "execution_count": 20,
   "metadata": {},
   "outputs": [
    {
     "name": "stdout",
     "output_type": "stream",
     "text": [
      " 1) Proline                        0.179927\n",
      " 2) Color intensity                0.153158\n",
      " 3) Flavanoids                     0.146123\n",
      " 4) Alcohol                        0.138224\n",
      " 5) OD280/OD315 of diluted wines   0.114818\n",
      " 6) Hue                            0.077525\n",
      " 7) Total phenols                  0.058236\n",
      " 8) Malic acid                     0.030856\n",
      " 9) Alcalinity of ash              0.030000\n",
      "10) Proanthocyanins                0.025713\n",
      "11) Magnesium                      0.025135\n",
      "12) Nonflavanoid phenols           0.011548\n",
      "13) Ash                            0.008738\n"
     ]
    },
    {
     "data": {
      "image/png": "[encoded data removed]",
      "text/plain": [
       "<Figure size 432x288 with 1 Axes>"
      ]
     },
     "metadata": {
      "needs_background": "light"
     },
     "output_type": "display_data"
    }
   ],
   "source": [
    "\"\"\" 랜덤 포레스트로 특성 중요도 확인 \"\"\"\n",
    "from sklearn.ensemble import RandomForestClassifier\n",
    "import matplotlib.pyplot as plt\n",
    "\n",
    "feat_labels = df_wine.columns[1:]\n",
    "\n",
    "forest = RandomForestClassifier(n_estimators = 500, random_state = 1)\n",
    "forest.fit(X_train, y_train)\n",
    "importances = forest.feature_importances_\n",
    "\n",
    "#indices = np.argsort(importances[::-1])\n",
    "indices = (np.array(importances)).argsort()[::-1]\n",
    "# argsort() : 작은 수부터 나타나도록 정렬하는 함수\n",
    "# 값이 이상하여 코드를 수정함.\n",
    "\n",
    "for f in range(X_train.shape[1]) :\n",
    "    print(\"%2d) %-*s %f\" % (f + 1, 30, feat_labels[indices[f]], importances[indices[f]]))\n",
    "\n",
    "plt.title('Feature Importance')\n",
    "plt.bar(range(X_train.shape[1]), importances[indices], align = 'center')\n",
    "# 막대 그래프\n",
    "plt.xticks(range(X_train.shape[1]), feat_labels[indices], rotation = 90)\n",
    "# 틱 라벨 설정\n",
    "plt.xlim([-1, X_train.shape[1]])\n",
    "plt.tight_layout()\n",
    "plt.show()\n",
    "\n",
    "# 결과값은 상대적인 중요도로, 특성 중요도는 정규화된 값이다."
   ]
  },
  {
   "cell_type": "code",
   "execution_count": 21,
   "metadata": {},
   "outputs": [
    {
     "name": "stdout",
     "output_type": "stream",
     "text": [
      "예제와는 다르게 랜덤 포레스트의 특성 중요도와 KNN의 순차적 특성 선택 알고리즘의 결과가 다르다.\n"
     ]
    }
   ],
   "source": [
    "print('예제와는 다르게 랜덤 포레스트의 특성 중요도와 KNN의 순차적 특성 선택 알고리즘의 결과가 다르다.')"
   ]
  },
  {
   "cell_type": "code",
   "execution_count": 22,
   "metadata": {},
   "outputs": [
    {
     "name": "stdout",
     "output_type": "stream",
     "text": [
      "이 임계 조건을 만족하는 샘플의 수 : 5\n",
      " 1) Proline                        0.179927\n",
      " 2) Color intensity                0.153158\n",
      " 3) Flavanoids                     0.146123\n",
      " 4) Alcohol                        0.138224\n",
      " 5) OD280/OD315 of diluted wines   0.114818\n"
     ]
    }
   ],
   "source": [
    "\"\"\" SelectFromModel으로 특성 선택하기 \"\"\"\n",
    "from sklearn.feature_selection import SelectFromModel\n",
    "\n",
    "sfm = SelectFromModel(forest, threshold = 0.1, prefit = True)\n",
    "# 지정한 임계값을 기반으로 특성을 선택한다.\n",
    "# 단, 모델 훈련이 끝난 후 사용이 가능하다.\n",
    "X_selected = sfm.transform(X_train)\n",
    "print('이 임계 조건을 만족하는 샘플의 수 :', X_selected.shape[1])\n",
    "\n",
    "for f in range(X_selected.shape[1]) :\n",
    "    print(\"%2d) %-*s %f\" % (f + 1, 30, feat_labels[indices[f]], importances[indices[f]]))"
   ]
  },
  {
   "cell_type": "code",
   "execution_count": null,
   "metadata": {},
   "outputs": [],
   "source": []
  }
 ],
 "metadata": {
  "kernelspec": {
   "display_name": "Python 3",
   "language": "python",
   "name": "python3"
  },
  "language_info": {
   "codemirror_mode": {
    "name": "ipython",
    "version": 3
   },
   "file_extension": ".py",
   "mimetype": "text/x-python",
   "name": "python",
   "nbconvert_exporter": "python",
   "pygments_lexer": "ipython3",
   "version": "3.7.6"
  }
 },
 "nbformat": 4,
 "nbformat_minor": 4
}

{
 "cells": [
  {
   "cell_type": "code",
   "execution_count": 1,
   "metadata": {},
   "outputs": [],
   "source": [
    "\"\"\" 와인 데이터 정리 \"\"\"\n",
    "import pandas as pd\n",
    "from sklearn.preprocessing import LabelEncoder\n",
    "from sklearn.model_selection import train_test_split\n",
    "\n",
    "df_wine = pd.read_csv('../dataset/wine.data', header = None)\n",
    "df_wine.columns = ['Class label', 'Alcohol',\n",
    "                  'Malic acid', 'Ash',\n",
    "                  'Alcalinity of ash', 'Magnesium',\n",
    "                  'Total phenols', 'Flavanoids',\n",
    "                  'Nonflavanoid phenols',\n",
    "                  'Proanthocyanins',\n",
    "                  'Color intensity', 'Hue',\n",
    "                  'OD280/OD315 of diluted wines',\n",
    "                  'Proline']\n",
    "\n",
    "# 클래스 1 제외\n",
    "df_wine = df_wine[df_wine['Class label'] != 1]\n",
    "y = df_wine['Class label'].values\n",
    "X = df_wine[['Alcohol', 'OD280/OD315 of diluted wines']].values\n",
    "\n",
    "le = LabelEncoder()\n",
    "y = le.fit_transform(y)\n",
    "X_train, X_test, y_train, y_test = train_test_split(X, y, test_size = 0.2,\n",
    "                                                   random_state = 1, stratify = y)"
   ]
  },
  {
   "cell_type": "code",
   "execution_count": 2,
   "metadata": {},
   "outputs": [
    {
     "name": "stdout",
     "output_type": "stream",
     "text": [
      "결정 트리의 훈련 정확도/테스트 정확도 0.916/0.875\n"
     ]
    }
   ],
   "source": [
    "\"\"\" 1차 결정 트리 적용 \"\"\"\n",
    "from sklearn.ensemble import AdaBoostClassifier\n",
    "from sklearn.tree import DecisionTreeClassifier\n",
    "from sklearn.metrics import accuracy_score\n",
    "\n",
    "tree = DecisionTreeClassifier(criterion = 'entropy', random_state = 1, max_depth = 1)\n",
    "\n",
    "tree = tree.fit(X_train, y_train)\n",
    "y_train_pred = tree.predict(X_train)\n",
    "y_test_pred = tree.predict(X_test)\n",
    "tree_train = accuracy_score(y_train, y_train_pred)\n",
    "tree_test = accuracy_score(y_test, y_test_pred)\n",
    "\n",
    "print('결정 트리의 훈련 정확도/테스트 정확도 %.3f/%.3f' % (tree_train, tree_test))"
   ]
  },
  {
   "cell_type": "code",
   "execution_count": 3,
   "metadata": {},
   "outputs": [
    {
     "name": "stdout",
     "output_type": "stream",
     "text": [
      "에이다부스트의 훈련 정확도/테스트 정확도 1.000/0.917\n"
     ]
    }
   ],
   "source": [
    "\"\"\" 에이다부스트 모델 적용 \"\"\"\n",
    "\n",
    "ada = AdaBoostClassifier(base_estimator = tree,\n",
    "                       n_estimators = 500, learning_rate = 0.1, random_state = 1)\n",
    "\n",
    "ada = ada.fit(X_train, y_train)\n",
    "y_train_pred = ada.predict(X_train)\n",
    "y_test_pred = ada.predict(X_test)\n",
    "ada_train = accuracy_score(y_train, y_train_pred)\n",
    "ada_test = accuracy_score(y_test, y_test_pred)\n",
    "\n",
    "print('에이다부스트의 훈련 정확도/테스트 정확도 %.3f/%.3f' % (ada_train, ada_test))"
   ]
  },
  {
   "cell_type": "code",
   "execution_count": 4,
   "metadata": {},
   "outputs": [
    {
     "data": {
      "image/png": "[encoded data removed]",
      "text/plain": [
       "<Figure size 576x216 with 2 Axes>"
      ]
     },
     "metadata": {
      "needs_background": "light"
     },
     "output_type": "display_data"
    }
   ],
   "source": [
    "\"\"\" 결정 경계 확인 \"\"\"\n",
    "import numpy as np\n",
    "import matplotlib.pyplot as plt\n",
    "\n",
    "x_min = X_train[:, 0].min() - 1\n",
    "x_max = X_train[:, 0].max() + 1\n",
    "y_min = X_train[:, 1].min() - 1\n",
    "y_max = X_train[:, 1].max() + 1\n",
    "\n",
    "xx, yy = np.meshgrid(np.arange(x_min, x_max, 0.1),\n",
    "                    np.arange(y_min, y_max, 0.1))\n",
    "f, axarr = plt.subplots(1, 2,\n",
    "                       sharex = 'col', sharey = 'row',\n",
    "                       figsize = (8,3))\n",
    "\n",
    "for idx, clf, tt in zip([0, 1], [tree, ada], ['Decision Tree', 'AdaBoost']) :\n",
    "    clf.fit(X_train, y_train)\n",
    "    Z = clf.predict(np.c_[xx.ravel(), yy.ravel()])\n",
    "    Z = Z.reshape(xx.shape)\n",
    "    axarr[idx].contourf(xx, yy, Z, alpha = 0.3)\n",
    "    axarr[idx].scatter(X_train[y_train == 0, 0], X_train[y_train == 0, 1],\n",
    "                      c = 'blue', marker = '^')\n",
    "    axarr[idx].scatter(X_train[y_train == 1, 0], X_train[y_train == 1, 1],\n",
    "                      c = 'red', marker = 'o')\n",
    "    axarr[idx].set_title(tt)\n",
    "    axarr[0].set_ylabel('Alcohol', fontsize = 12)\n",
    "\n",
    "plt.text(10.2, -0.5,\n",
    "        s = 'OD280/OD315 of diluted wines',\n",
    "        ha = 'center', va = 'center', fontsize = 12)\n",
    "plt.tight_layout()\n",
    "plt.show()"
   ]
  },
  {
   "cell_type": "code",
   "execution_count": 5,
   "metadata": {},
   "outputs": [
    {
     "name": "stdout",
     "output_type": "stream",
     "text": [
      "앙상블에 사용한 트리 개수 20\n",
      "그래디언트 부스팅의 훈련 정확도/테스트 정확도 1.000/0.917\n"
     ]
    }
   ],
   "source": [
    "\"\"\" 그래디언트 부스팅 \"\"\"\n",
    "from sklearn.ensemble import GradientBoostingClassifier\n",
    "\n",
    "gbrt = GradientBoostingClassifier(n_estimators = 20, random_state = 42)\n",
    "gbrt.fit(X_train, y_train)\n",
    "gbrt_train_score = gbrt.score(X_train, y_train)\n",
    "gbrt_test_score = gbrt.score(X_test, y_test)\n",
    "\n",
    "print('앙상블에 사용한 트리 개수 %d' % gbrt.n_estimators_)\n",
    "print('그래디언트 부스팅의 훈련 정확도/테스트 정확도 %.3f/%.3f' % (gbrt_train_score, gbrt_test_score))"
   ]
  },
  {
   "cell_type": "code",
   "execution_count": null,
   "metadata": {},
   "outputs": [],
   "source": []
  }
 ],
 "metadata": {
  "kernelspec": {
   "display_name": "Python 3",
   "language": "python",
   "name": "python3"
  },
  "language_info": {
   "codemirror_mode": {
    "name": "ipython",
    "version": 3
   },
   "file_extension": ".py",
   "mimetype": "text/x-python",
   "name": "python",
   "nbconvert_exporter": "python",
   "pygments_lexer": "ipython3",
   "version": "3.8.3"
  }
 },
 "nbformat": 4,
 "nbformat_minor": 4
}

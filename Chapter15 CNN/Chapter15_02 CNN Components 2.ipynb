{
 "cells": [
  {
   "cell_type": "code",
   "execution_count": 2,
   "metadata": {},
   "outputs": [
    {
     "name": "stdout",
     "output_type": "stream",
     "text": [
      "이미지 크기 :  (460, 460, 3)\n",
      "채널 수 :  3\n",
      "이미지 데이터 타입 :  uint8\n",
      "[[[ 0 12 46]\n",
      "  [ 1 10 43]]\n",
      "\n",
      " [[ 0  7 42]\n",
      "  [ 0  8 41]]]\n"
     ]
    }
   ],
   "source": [
    "# iamageio 라이브러리 예제\n",
    "import imageio\n",
    "\n",
    "img = imageio.imread('./sample.jpg', pilmode = 'RGB')\n",
    "print('이미지 크기 : ', img.shape)\n",
    "print('채널 수 : ', img.shape[2])\n",
    "print('이미지 데이터 타입 : ', img.dtype)\n",
    "print(img[100:102, 100:102, :])"
   ]
  },
  {
   "cell_type": "code",
   "execution_count": null,
   "metadata": {},
   "outputs": [],
   "source": []
  }
 ],
 "metadata": {
  "kernelspec": {
   "display_name": "Python 3",
   "language": "python",
   "name": "python3"
  },
  "language_info": {
   "codemirror_mode": {
    "name": "ipython",
    "version": 3
   },
   "file_extension": ".py",
   "mimetype": "text/x-python",
   "name": "python",
   "nbconvert_exporter": "python",
   "pygments_lexer": "ipython3",
   "version": "3.7.9"
  }
 },
 "nbformat": 4,
 "nbformat_minor": 4
}

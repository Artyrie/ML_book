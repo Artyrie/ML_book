{
 "cells": [
  {
   "cell_type": "code",
   "execution_count": 1,
   "metadata": {},
   "outputs": [],
   "source": [
    "\"\"\" 와인 데이터 정리 \"\"\"\n",
    "import pandas as pd\n",
    "from sklearn.model_selection import train_test_split\n",
    "from sklearn.preprocessing import StandardScaler\n",
    "\n",
    "df_wine = pd.read_csv('../Dataset/wine.data', header = None)\n",
    "df_wine.columns = ['Class label', 'Alcohol',\n",
    "                  'Malic acid', 'Ash',\n",
    "                  'Alcalinity of ash', 'Magnesium',\n",
    "                  'Total phenols', 'Flavanoids',\n",
    "                  'Nonflavanoid phenols',\n",
    "                  'Proanthocyanins',\n",
    "                  'Color intensity', 'Hue',\n",
    "                  'OD280/OD315 of diluted wines',\n",
    "                  'Proline']\n",
    "\n",
    "X, y = df_wine.iloc[:, 1:].values, df_wine.iloc[:, 0].values\n",
    "X_train, X_test, y_train, y_test = train_test_split(X, y, test_size = 0.3,\n",
    "                                                   stratify = y, random_state = 0)\n",
    "sc = StandardScaler()\n",
    "X_train_std = sc.fit_transform(X_train)\n",
    "X_test_std = sc.fit_transform(X_test)"
   ]
  },
  {
   "cell_type": "code",
   "execution_count": 2,
   "metadata": {},
   "outputs": [
    {
     "name": "stdout",
     "output_type": "stream",
     "text": [
      "MV 1: [ 0.9066 -0.3497  0.3201 -0.7189  0.5056  0.8807  0.9589 -0.5516  0.5416\n",
      "  0.2338  0.5897  0.6563  1.2075]\n",
      "\n",
      "MV 2: [-0.8749 -0.2848 -0.3735  0.3157 -0.3848 -0.0433  0.0635 -0.0946  0.0703\n",
      " -0.8286  0.3144  0.3608 -0.7253]\n",
      "\n",
      "MV 3: [ 0.1992  0.866   0.1682  0.4148 -0.0451 -1.0286 -1.2876  0.8287 -0.7795\n",
      "  0.9649 -1.209  -1.3622 -0.4013]\n",
      "\n"
     ]
    }
   ],
   "source": [
    "\"\"\" 평균 벡터 구하기 \"\"\"\n",
    "import numpy as np\n",
    "\n",
    "np.set_printoptions(precision = 4)\n",
    "mean_vecs = []\n",
    "\n",
    "for label in range(1,4) :\n",
    "    mean_vecs.append(np.mean(X_train_std[y_train == label], axis = 0))\n",
    "    print('MV %s: %s\\n' %(label, mean_vecs[label-1]))"
   ]
  },
  {
   "cell_type": "code",
   "execution_count": 3,
   "metadata": {},
   "outputs": [
    {
     "name": "stdout",
     "output_type": "stream",
     "text": [
      "클래스 내의 산포 행렬 : 13*13\n",
      "클래스 레이블 분포 : [41 50 33]\n"
     ]
    }
   ],
   "source": [
    "\"\"\" 클래스 내 산포 행렬 구하기 \"\"\"\n",
    "\n",
    "d = 13\n",
    "S_W = np.zeros((d, d))\n",
    "\n",
    "for label, mv in zip(range(1, 4), mean_vecs) :\n",
    "    class_scatter = np.zeros((d, d))\n",
    "    \n",
    "    for row in X_train_std[y_train == label] :\n",
    "        row, mv = row.reshape(d, 1), mv.reshape(d, 1)\n",
    "        class_scatter += (row - mv).dot((row - mv).T)\n",
    "    \n",
    "    S_W += class_scatter\n",
    "\n",
    "print('클래스 내의 산포 행렬 : %s*%s' % (S_W.shape[0], S_W.shape[1]))\n",
    "print('클래스 레이블 분포 : %s' % np.bincount(y_train)[1:])\n",
    "# 스케일 조정이 되지 않은 상태이다."
   ]
  },
  {
   "cell_type": "code",
   "execution_count": 4,
   "metadata": {},
   "outputs": [
    {
     "name": "stdout",
     "output_type": "stream",
     "text": [
      "스케일 조정된 클래스 내의 산포 행렬 : 13*13\n"
     ]
    }
   ],
   "source": [
    "\"\"\" 공분산을 이용하여 산포 행렬 구하기 \"\"\"\n",
    "\n",
    "d = 13\n",
    "S_W = np.zeros((d, d))\n",
    "\n",
    "for label, mv in zip(range(1, 4), mean_vecs) :\n",
    "    class_scatter = np.cov(X_train_std[y_train == label].T, bias = True)\n",
    "    S_W += class_scatter\n",
    "print('스케일 조정된 클래스 내의 산포 행렬 : %s*%s' % (S_W.shape[0], S_W.shape[1]))"
   ]
  },
  {
   "cell_type": "code",
   "execution_count": 7,
   "metadata": {},
   "outputs": [
    {
     "name": "stdout",
     "output_type": "stream",
     "text": [
      "클래스 간의 산포 행렬 : 13*13\n"
     ]
    }
   ],
   "source": [
    "\"\"\" 클래스 간의 산포 행렬 구하기 \"\"\"\n",
    "\n",
    "mean_overall = np.mean(X_train_std, axis = 0)\n",
    "mean_overall = mean_overall.reshape(d, 1)\n",
    "# 열벡터화\n",
    "d = 13\n",
    "S_B = np.zeros((d, d))\n",
    "\n",
    "for i, mean_vec in enumerate(mean_vecs) : \n",
    "    # Remind : enumerate는 반복 가능한 객체(문자열, 리스트, 넘파이 배열 등)를 입력으로 받아 인덱스와 값의 튜플을\n",
    "    # 차례대로 반환하는 파이썬 내장함수이다.\n",
    "    n = X_train[y_train == i + 1, :].shape[0]\n",
    "    mean_vec = mean_vec.reshape(d, 1)\n",
    "    S_B += n * (mean_vec - mean_overall).dot((mean_vec - mean_overall).T)\n",
    "\n",
    "print('클래스 간의 산포 행렬 : %s*%s' % (S_B.shape[0], S_B.shape[1]))"
   ]
  },
  {
   "cell_type": "code",
   "execution_count": 8,
   "metadata": {},
   "outputs": [
    {
     "name": "stdout",
     "output_type": "stream",
     "text": [
      "내림차순의 고윳값 : \n",
      "\n",
      "358.0042070133658\n",
      "177.07768640666217\n",
      "2.842170943040401e-14\n",
      "2.416464785473244e-14\n",
      "2.1954926639581513e-14\n",
      "2.1954926639581513e-14\n",
      "2.0367938670394332e-14\n",
      "2.0367938670394332e-14\n",
      "1.8639642080179956e-14\n",
      "1.4017013569391021e-14\n",
      "1.4017013569391021e-14\n",
      "3.5106142861573525e-15\n",
      "2.728065685424338e-15\n",
      "\n",
      "0이 아닌 고윳값은 위의 2개뿐으로, 남은 것은 부동 소수 연산에 의한 값이다.\n"
     ]
    }
   ],
   "source": [
    "\"\"\" 산포 행렬 고윳값 계산 \"\"\"\n",
    "\n",
    "eigen_vals, eigen_vecs = np.linalg.eig(np.linalg.inv(S_W).dot(S_B))\n",
    "eigen_pairs = [(np.abs(eigen_vals[i]), eigen_vecs[:, i]) for i in range(len(eigen_vals))]\n",
    "eigen_pairs = sorted(eigen_pairs, key = lambda k: k[0], reverse = True)\n",
    "print('내림차순의 고윳값 : \\n')\n",
    "\n",
    "for eigen_val in eigen_pairs : \n",
    "    print(eigen_val[0])\n",
    "    \n",
    "print('\\n0이 아닌 고윳값은 위의 2개뿐으로, 남은 것은 부동 소수 연산에 의한 값이다.')"
   ]
  },
  {
   "cell_type": "code",
   "execution_count": 9,
   "metadata": {},
   "outputs": [
    {
     "data": {
      "image/png": "[encoded data removed]",
      "text/plain": [
       "<Figure size 432x288 with 1 Axes>"
      ]
     },
     "metadata": {
      "needs_background": "light"
     },
     "output_type": "display_data"
    },
    {
     "name": "stdout",
     "output_type": "stream",
     "text": [
      "\n",
      " 두 개의 선형 판별 벡터가 거의 모든 정보를 잡아낸다.\n"
     ]
    }
   ],
   "source": [
    "\"\"\" 선형 판별 벡터 그리기 \"\"\"\n",
    "import matplotlib.pyplot as plt\n",
    "\n",
    "tot = sum(eigen_vals.real)\n",
    "discr = [(i / tot) for i in sorted(eigen_vals.real, reverse = True)]\n",
    "cum_discr = np.cumsum(discr)\n",
    "\n",
    "plt.bar(range(1, 14), discr, alpha = 0.5, align = 'center',\n",
    "       label = 'individual discriminability')\n",
    "# 식별 가능성\n",
    "plt.step(range(1, 14), cum_discr, where = 'mid',\n",
    "        label = 'cumulative discriminability')\n",
    "plt.ylabel('discriminability ratio')\n",
    "plt.xlabel('Linear Discriminants')\n",
    "plt.ylim([-0.1, 1.1])\n",
    "plt.legend(loc = 'best')\n",
    "plt.tight_layout()\n",
    "plt.show()\n",
    "\n",
    "print('\\n 두 개의 선형 판별 벡터가 거의 모든 정보를 잡아낸다.')"
   ]
  },
  {
   "cell_type": "code",
   "execution_count": 10,
   "metadata": {},
   "outputs": [
    {
     "name": "stdout",
     "output_type": "stream",
     "text": [
      "행렬 W : \n",
      " [[-0.1484 -0.4093]\n",
      " [ 0.091  -0.1583]\n",
      " [-0.0168 -0.3536]\n",
      " [ 0.1487  0.322 ]\n",
      " [-0.0165 -0.0813]\n",
      " [ 0.1912  0.0841]\n",
      " [-0.7333  0.2828]\n",
      " [-0.0751 -0.0099]\n",
      " [ 0.002   0.0902]\n",
      " [ 0.2953 -0.2168]\n",
      " [-0.0327  0.274 ]\n",
      " [-0.3539 -0.0133]\n",
      " [-0.3918 -0.5954]]\n"
     ]
    }
   ],
   "source": [
    "\"\"\" 변환 행렬 W 만들기 \"\"\"\n",
    "\n",
    "w = np.hstack((eigen_pairs[0][1][:, np.newaxis].real, eigen_pairs[1][1][:, np.newaxis].real))\n",
    "# 두개의 판별 고유 벡터를 열로 쌓아 변환 행렬을 만든다.\n",
    "print('행렬 W : \\n', w)\n"
   ]
  },
  {
   "cell_type": "code",
   "execution_count": 11,
   "metadata": {},
   "outputs": [
    {
     "data": {
      "image/png": "[encoded data removed]",
      "text/plain": [
       "<Figure size 432x288 with 1 Axes>"
      ]
     },
     "metadata": {
      "needs_background": "light"
     },
     "output_type": "display_data"
    }
   ],
   "source": [
    "\"\"\" 새로운 특성 공간으로 샘플 투영 \"\"\"\n",
    "\n",
    "X_train_lda = X_train_std.dot(w)\n",
    "colors = ['r', 'g', 'b']\n",
    "markers = ['s', 'x', 'o']\n",
    "\n",
    "for l, c, m in zip(np.unique(y_train), colors, markers) :\n",
    "    plt.scatter(X_train_lda[y_train == l, 0], X_train_lda[y_train == l, 1] * (-1),\n",
    "               c = c, label = l, marker = m)\n",
    "\n",
    "plt.xlabel('LD 1')\n",
    "plt.ylabel('LD 2')\n",
    "plt.legend('loc = lower right')\n",
    "plt.tight_layout()\n",
    "plt.show()"
   ]
  },
  {
   "cell_type": "code",
   "execution_count": 12,
   "metadata": {},
   "outputs": [],
   "source": [
    "\"\"\" 시각화 함수 \"\"\"\n",
    "from matplotlib.colors import ListedColormap\n",
    "\n",
    "# 2차원 데이터셋의 결정 경계를 시각화\n",
    "def plot_decision_regions(X, y, classifier, test_idx = None, resolution = 0.02) :\n",
    "    \n",
    "    # 마커와 컬러맵 설정\n",
    "    markers = ('s', 'x', 'o', '^', ' v')\n",
    "    colors = ('red', 'blue', 'lightgreen', 'gray', 'cyan')\n",
    "    cmap = ListedColormap(colors[:len(np.unique(y))])\n",
    "    \n",
    "    # 결정 경계 그리기\n",
    "    x1_min, x1_max = X[:, 0].min() - 1, X[:, 0].max() + 1\n",
    "    x2_min, x2_max = X[:, 1].min() - 1, X[:, 1].max() + 1\n",
    "    xx1, xx2 = np.meshgrid(np.arange(x1_min, x1_max, resolution), np.arange(x2_min, x2_max, resolution))\n",
    "    Z = classifier.predict(np.array([xx1.ravel(), xx2.ravel()]).T)\n",
    "    Z = Z.reshape(xx1.shape)\n",
    "    plt.contourf(xx1, xx2, Z, alpha = 0.3, cmap=cmap)\n",
    "    plt.xlim(xx1.min(), xx1.max())\n",
    "    plt.ylim(xx2.min(), xx2.max())\n",
    "\n",
    "    # 샘플의 산점도\n",
    "    for idx, cl in enumerate(np.unique(y)) :\n",
    "        plt.scatter(x=X[y == cl, 0], y=X[y == cl, 1], alpha = 0.8, c = colors[idx], marker = markers[idx],\n",
    "                   label = cl, edgecolor = 'black')\n",
    "    \n",
    "    # 테스트 샘플을 부각\n",
    "    if test_idx : \n",
    "        X_test, y_test = X[test_idx, :], y[test_idx]\n",
    "        \n",
    "        plt.scatter(X_test[:, 0], X_test[:, 1], c = '', edgecolor = 'black', alpha = 1.0,\n",
    "                   linewidth = 1, marker = 'o', s = 100, label = 'test set')"
   ]
  },
  {
   "cell_type": "code",
   "execution_count": 13,
   "metadata": {},
   "outputs": [
    {
     "data": {
      "image/png": "[encoded data removed]",
      "text/plain": [
       "<Figure size 432x288 with 1 Axes>"
      ]
     },
     "metadata": {
      "needs_background": "light"
     },
     "output_type": "display_data"
    },
    {
     "data": {
      "image/png": "[encoded data removed]",
      "text/plain": [
       "<Figure size 432x288 with 1 Axes>"
      ]
     },
     "metadata": {
      "needs_background": "light"
     },
     "output_type": "display_data"
    }
   ],
   "source": [
    "\"\"\" 사이킷 런 LDA \"\"\"\n",
    "from sklearn.discriminant_analysis import LinearDiscriminantAnalysis as LDA\n",
    "from sklearn.linear_model import LogisticRegression\n",
    "\n",
    "lda = LDA(n_components = 2)\n",
    "X_train_lda = lda.fit_transform(X_train_std, y_train)\n",
    "\n",
    "# 로지스틱 회귀로 테스트하기\n",
    "lr = LogisticRegression(solver = 'liblinear', multi_class = 'auto')\n",
    "lr = lr.fit(X_train_lda, y_train)\n",
    "plot_decision_regions(X_train_lda, y_train, classifier = lr)\n",
    "plt.xlabel('LD 1')\n",
    "plt.ylabel('LD 2')\n",
    "plt.legend(loc = 'lower left')\n",
    "plt.title('Train set')\n",
    "plt.tight_layout()\n",
    "plt.show()\n",
    "\n",
    "X_test_lda = lda.transform(X_test_std)\n",
    "plot_decision_regions(X_test_lda, y_test, classifier = lr)\n",
    "plt.xlabel('LD 1')\n",
    "plt.ylabel('LD 2')\n",
    "plt.legend(loc = 'lower left')\n",
    "plt.title('Test set')\n",
    "plt.tight_layout()\n",
    "plt.show()"
   ]
  },
  {
   "cell_type": "code",
   "execution_count": 14,
   "metadata": {},
   "outputs": [
    {
     "name": "stdout",
     "output_type": "stream",
     "text": [
      "[0.3306 0.4032 0.2661]\n",
      "True\n",
      "True\n",
      "False\n",
      "False\n"
     ]
    }
   ],
   "source": [
    "\"\"\" 사이킷 런의 LDA 구현 \"\"\"\n",
    "import scipy\n",
    "\n",
    "# 클래스 내 산포 행렬 계산\n",
    "y_uniq, y_count = np.unique(y_train, return_counts = True)\n",
    "priors = y_count / X_train_std.shape[0]\n",
    "print(priors)\n",
    "\n",
    "s_w = np.zeros((X_train_std.shape[1], X_train_std.shape[1]))\n",
    "for i, label in enumerate(y_uniq):\n",
    "    s_w += priors[i] * np.cov(X_train_std[y_train == label].T, bias=True)\n",
    "    # bias = True에 의해 공분산 계산시 1/(n-1)을 곱하던 것을 1/n으로 바꿀 수 있다.\n",
    "\n",
    "# 클래스 간 산포 행렬 계산\n",
    "s_b = np.zeros((X_train_std.shape[1], X_train_std.shape[1]))\n",
    "\n",
    "for i, mean_vec in enumerate(mean_vecs):\n",
    "    n = X_train_std[y_train == i + 1].shape[0]\n",
    "    mean_vec = mean_vec.reshape(-1, 1)\n",
    "    s_b += priors[i] * (mean_vec - mean_overall).dot((mean_vec - mean_overall).T)\n",
    "\n",
    "# scipy를 사용하여 고윳값 계산\n",
    "ei_val, ei_vec = scipy.linalg.eigh(s_b, s_w)\n",
    "ei_vec = ei_vec[:, np.argsort(ei_val)[::-1]]\n",
    "#ei_vec = ((np.array(ei_vec)).argsort()[::-1]) * 1.0\n",
    "ei_vec /= np.linalg.norm(ei_vec, axis = 0)\n",
    "#np.sqrt(np.dot(ei_vec.ravel(),ei_vec.ravel()))\n",
    "\n",
    "# LDA 클래스와 같은지 확인\n",
    "lda_eigen = LDA(solver = 'eigen')\n",
    "lda_eigen.fit(X_train_std, y_train)\n",
    "print(np.allclose(s_w, lda_eigen.covariance_))\n",
    "\n",
    "# 클래스 간 산포 행렬 S_B 구하기\n",
    "Sb = np.cov(X_train_std.T, bias=True) - lda_eigen.covariance_\n",
    "print(np.allclose(Sb, s_b))\n",
    "\n",
    "\"\"\"\n",
    "ei_vec 의 argsort가 정상작동하지 않아 eigen vector 값이 달라져 True값이 나오지 않는다.\n",
    "이전의 해결했던 argsort() 해결 방법으로는 해결되지 않음을 확인하였고,\n",
    "norm 함수를 대체해봐도 해결되지 않는다.\n",
    "\"\"\"\n",
    "\n",
    "#선형 판별 벡터 비교하기\n",
    "print(np.allclose(lda_eigen.scalings_[:, :2], ei_vec[:, :2]))\n",
    "# scalings_ 속성에 고유 벡터가 저장된다.\n",
    "\n",
    "# transform 메소드를 벡터 점곱으로 구현\n",
    "print(np.allclose(lda_eigen.transform(X_test_std), np.dot(X_test_std, ei_vec[:, :2])))"
   ]
  },
  {
   "cell_type": "code",
   "execution_count": null,
   "metadata": {},
   "outputs": [],
   "source": []
  }
 ],
 "metadata": {
  "kernelspec": {
   "display_name": "Python 3",
   "language": "python",
   "name": "python3"
  },
  "language_info": {
   "codemirror_mode": {
    "name": "ipython",
    "version": 3
   },
   "file_extension": ".py",
   "mimetype": "text/x-python",
   "name": "python",
   "nbconvert_exporter": "python",
   "pygments_lexer": "ipython3",
   "version": "3.7.6"
  }
 },
 "nbformat": 4,
 "nbformat_minor": 4
}

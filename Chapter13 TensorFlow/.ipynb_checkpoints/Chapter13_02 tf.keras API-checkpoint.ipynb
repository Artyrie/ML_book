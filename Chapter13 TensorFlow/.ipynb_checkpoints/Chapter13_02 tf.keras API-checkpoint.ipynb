{
 "cells": [
  {
   "cell_type": "code",
   "execution_count": 6,
   "metadata": {},
   "outputs": [],
   "source": [
    "\"\"\" 데이터 셋 불러오기 \"\"\"\n",
    "import os\n",
    "import struct\n",
    "import numpy as np\n",
    "\n",
    "def load_mnist(path, kind = 'train') :\n",
    "    \"\"\" 'path'에서 MNIST 데이터 불러오기 \"\"\"\n",
    "    labels_path = os.path.join(path, '%s-labels.idx1-ubyte' % kind)\n",
    "    images_path = os.path.join(path, '%s-images.idx3-ubyte' % kind)\n",
    "    \n",
    "    with open(labels_path, 'rb') as lbpath :\n",
    "        magic, n = struct.unpack('>II', lbpath.read(8))\n",
    "        labels = np.fromfile(lbpath, dtype = np.uint8)\n",
    "    \n",
    "    with open(images_path, 'rb') as imgpath : \n",
    "        magic, num, rows, cols = struct.unpack(\">IIII\", imgpath.read(16))\n",
    "        images = np.fromfile(imgpath, dtype = np.uint8).reshape(len(labels), 784)\n",
    "        images = ((images / 255.) - .5) * 2\n",
    "    \n",
    "    return images, labels"
   ]
  },
  {
   "cell_type": "code",
   "execution_count": 8,
   "metadata": {},
   "outputs": [
    {
     "name": "stdout",
     "output_type": "stream",
     "text": [
      "행 : 60000, 열 : 784\n",
      "행 : 10000, 열 : 784\n"
     ]
    }
   ],
   "source": [
    "X_trian, y_trian = load_mnist('../Dataset/', kind = 'train')\n",
    "print('행 : %d, 열 : %d' % (X_train.shape[0], X_train.shape[1]))\n",
    "\n",
    "X_test, y_test = load_mnist('../Dataset/', kind = 't10k')\n",
    "print('행 : %d, 열 : %d' % (X_test.shape[0], X_test.shape[1]))"
   ]
  },
  {
   "cell_type": "code",
   "execution_count": 9,
   "metadata": {},
   "outputs": [
    {
     "name": "stdout",
     "output_type": "stream",
     "text": [
      "(60000, 784) (60000,)\n",
      "(10000, 784) (10000,)\n"
     ]
    }
   ],
   "source": [
    "import numpy as np\n",
    "\n",
    "## 평균을 0으로 하고 표준 편차로 나눔\n",
    "mean_vals = np.mean(X_train, axis = 0)\n",
    "std_val = np.std(X_train)\n",
    "\n",
    "X_train_centered = (X_train - mean_vals) / std_val\n",
    "X_test_centered = (X_test - mean_vals) / std_val\n",
    "\n",
    "del X_train, X_test\n",
    "\n",
    "print(X_train_centered.shape, y_train.shape)\n",
    "print(X_test_centered.shape, y_test.shape)"
   ]
  },
  {
   "cell_type": "code",
   "execution_count": 10,
   "metadata": {},
   "outputs": [
    {
     "name": "stdout",
     "output_type": "stream",
     "text": [
      "처음 3개 레이블 :  [5 0 4]\n",
      "\n",
      "처음 3개 레이블 (원핫) : \n",
      " [[0. 0. 0. 0. 0. 1. 0. 0. 0. 0.]\n",
      " [1. 0. 0. 0. 0. 0. 0. 0. 0. 0.]\n",
      " [0. 0. 0. 0. 1. 0. 0. 0. 0. 0.]]\n"
     ]
    }
   ],
   "source": [
    "import tensorflow as tf\n",
    "\n",
    "np.random.seed(123)\n",
    "\n",
    "y_train_onehot = tf.keras.utils.to_categorical(y_train)\n",
    "print('처음 3개 레이블 : ', y_train[:3])\n",
    "print('\\n처음 3개 레이블 (원핫) : \\n', y_train_onehot[:3])"
   ]
  },
  {
   "cell_type": "code",
   "execution_count": 14,
   "metadata": {},
   "outputs": [],
   "source": [
    "model = tf.keras.models.Sequential()\n",
    "\n",
    "model.add(\n",
    "    tf.keras.layers.Dense(units = 50, input_dim = X_train_centered.shape[1],\n",
    "                          kernel_initializer = 'glorot_uniform',\n",
    "                          bias_initializer = 'zeros', activation = 'tanh')\n",
    ")\n",
    "# glorot_uniform은 가중치 행렬 초기화 알고리즘으로, 케라스의 기본 값이다.\n",
    "\n",
    "model.add(\n",
    "    tf.keras.layers.Dense(units = 50, input_dim = 50,\n",
    "                         kernel_initializer = 'glorot_uniform',\n",
    "                         bias_initializer = 'zeros', activation = 'tanh')\n",
    ")\n",
    "\n",
    "model.add(\n",
    "    tf.keras.layers.Dense(units = y_train_onehot.shape[1], input_dim = 50,\n",
    "                         kernel_initializer = 'glorot_uniform',\n",
    "                         bias_initializer = 'zeros', activation = 'softmax'))"
   ]
  },
  {
   "cell_type": "code",
   "execution_count": 15,
   "metadata": {},
   "outputs": [
    {
     "name": "stdout",
     "output_type": "stream",
     "text": [
      "Model: \"sequential_3\"\n",
      "_________________________________________________________________\n",
      "Layer (type)                 Output Shape              Param #   \n",
      "=================================================================\n",
      "dense_2 (Dense)              (None, 50)                39250     \n",
      "_________________________________________________________________\n",
      "dense_3 (Dense)              (None, 50)                2550      \n",
      "_________________________________________________________________\n",
      "dense_4 (Dense)              (None, 10)                510       \n",
      "=================================================================\n",
      "Total params: 42,310\n",
      "Trainable params: 42,310\n",
      "Non-trainable params: 0\n",
      "_________________________________________________________________\n"
     ]
    }
   ],
   "source": [
    "model.summary()"
   ]
  },
  {
   "cell_type": "code",
   "execution_count": 17,
   "metadata": {},
   "outputs": [],
   "source": [
    "sgd_optimizer = tf.keras.optimizers.SGD(lr = 0.001, decay = 1e-7, momentum = .9)\n",
    "\n",
    "model.compile(optimizer = sgd_optimizer, loss = 'categorical_crossentropy')\n",
    "# 이진 크로스 엔트로피는 로지스틱 손실 함수의 기술적인 표현이다.\n",
    "# 범주형 크로스 엔트로피는 소프트맥스를 사용하여 다중 클래스 예측으로 일반화 한 것이다."
   ]
  },
  {
   "cell_type": "code",
   "execution_count": 18,
   "metadata": {},
   "outputs": [
    {
     "name": "stdout",
     "output_type": "stream",
     "text": [
      "Train on 54000 samples, validate on 6000 samples\n",
      "Epoch 1/50\n",
      "54000/54000 [==============================] - 2s 38us/sample - loss: 0.7347 - val_loss: 0.3684\n",
      "Epoch 2/50\n",
      "54000/54000 [==============================] - 1s 24us/sample - loss: 0.3744 - val_loss: 0.2797\n",
      "Epoch 3/50\n",
      "54000/54000 [==============================] - 1s 23us/sample - loss: 0.3085 - val_loss: 0.2410\n",
      "Epoch 4/50\n",
      "54000/54000 [==============================] - 1s 25us/sample - loss: 0.2718 - val_loss: 0.2183\n",
      "Epoch 5/50\n",
      "54000/54000 [==============================] - 1s 28us/sample - loss: 0.2461 - val_loss: 0.2010\n",
      "Epoch 6/50\n",
      "54000/54000 [==============================] - 2s 28us/sample - loss: 0.2263 - val_loss: 0.1883\n",
      "Epoch 7/50\n",
      "54000/54000 [==============================] - 1s 25us/sample - loss: 0.2099 - val_loss: 0.1781\n",
      "Epoch 8/50\n",
      "54000/54000 [==============================] - 1s 27us/sample - loss: 0.1961 - val_loss: 0.1685\n",
      "Epoch 9/50\n",
      "54000/54000 [==============================] - 2s 33us/sample - loss: 0.1840 - val_loss: 0.1608\n",
      "Epoch 10/50\n",
      "54000/54000 [==============================] - 1s 24us/sample - loss: 0.1736 - val_loss: 0.1540\n",
      "Epoch 11/50\n",
      "54000/54000 [==============================] - 1s 23us/sample - loss: 0.1642 - val_loss: 0.1486\n",
      "Epoch 12/50\n",
      "54000/54000 [==============================] - 1s 25us/sample - loss: 0.1559 - val_loss: 0.1435\n",
      "Epoch 13/50\n",
      "54000/54000 [==============================] - 1s 25us/sample - loss: 0.1482 - val_loss: 0.1387\n",
      "Epoch 14/50\n",
      "54000/54000 [==============================] - 1s 24us/sample - loss: 0.1413 - val_loss: 0.1347\n",
      "Epoch 15/50\n",
      "54000/54000 [==============================] - 1s 25us/sample - loss: 0.1351 - val_loss: 0.1314\n",
      "Epoch 16/50\n",
      "54000/54000 [==============================] - 1s 27us/sample - loss: 0.1293 - val_loss: 0.1283\n",
      "Epoch 17/50\n",
      "54000/54000 [==============================] - 2s 29us/sample - loss: 0.1240 - val_loss: 0.1255\n",
      "Epoch 18/50\n",
      "54000/54000 [==============================] - 1s 27us/sample - loss: 0.1190 - val_loss: 0.1240\n",
      "Epoch 19/50\n",
      "54000/54000 [==============================] - 1s 24us/sample - loss: 0.1146 - val_loss: 0.1209\n",
      "Epoch 20/50\n",
      "54000/54000 [==============================] - 1s 26us/sample - loss: 0.1100 - val_loss: 0.1196\n",
      "Epoch 21/50\n",
      "54000/54000 [==============================] - 2s 35us/sample - loss: 0.1063 - val_loss: 0.1174\n",
      "Epoch 22/50\n",
      "54000/54000 [==============================] - ETA: 0s - loss: 0.102 - 1s 27us/sample - loss: 0.1025 - val_loss: 0.1153\n",
      "Epoch 23/50\n",
      "54000/54000 [==============================] - 1s 26us/sample - loss: 0.0989 - val_loss: 0.1137\n",
      "Epoch 24/50\n",
      "54000/54000 [==============================] - 1s 24us/sample - loss: 0.0955 - val_loss: 0.1126\n",
      "Epoch 25/50\n",
      "54000/54000 [==============================] - 1s 26us/sample - loss: 0.0925 - val_loss: 0.1119\n",
      "Epoch 26/50\n",
      "54000/54000 [==============================] - 1s 26us/sample - loss: 0.0894 - val_loss: 0.1112\n",
      "Epoch 27/50\n",
      "54000/54000 [==============================] - 1s 25us/sample - loss: 0.0866 - val_loss: 0.1091\n",
      "Epoch 28/50\n",
      "54000/54000 [==============================] - 2s 30us/sample - loss: 0.0839 - val_loss: 0.1083\n",
      "Epoch 29/50\n",
      "54000/54000 [==============================] - 1s 25us/sample - loss: 0.0813 - val_loss: 0.1071\n",
      "Epoch 30/50\n",
      "54000/54000 [==============================] - 2s 28us/sample - loss: 0.0788 - val_loss: 0.1070\n",
      "Epoch 31/50\n",
      "54000/54000 [==============================] - 3s 51us/sample - loss: 0.0765 - val_loss: 0.1061\n",
      "Epoch 32/50\n",
      "54000/54000 [==============================] - 2s 30us/sample - loss: 0.0742 - val_loss: 0.1052\n",
      "Epoch 33/50\n",
      "54000/54000 [==============================] - 2s 28us/sample - loss: 0.0720 - val_loss: 0.1050\n",
      "Epoch 34/50\n",
      "54000/54000 [==============================] - 1s 24us/sample - loss: 0.0700 - val_loss: 0.1043\n",
      "Epoch 35/50\n",
      "54000/54000 [==============================] - 1s 26us/sample - loss: 0.0680 - val_loss: 0.1036\n",
      "Epoch 36/50\n",
      "54000/54000 [==============================] - 1s 24us/sample - loss: 0.0661 - val_loss: 0.1037\n",
      "Epoch 37/50\n",
      "54000/54000 [==============================] - 2s 29us/sample - loss: 0.0644 - val_loss: 0.1030\n",
      "Epoch 38/50\n",
      "54000/54000 [==============================] - 2s 30us/sample - loss: 0.0625 - val_loss: 0.1029\n",
      "Epoch 39/50\n",
      "54000/54000 [==============================] - 2s 29us/sample - loss: 0.0608 - val_loss: 0.1029\n",
      "Epoch 40/50\n",
      "54000/54000 [==============================] - 1s 26us/sample - loss: 0.0592 - val_loss: 0.1018\n",
      "Epoch 41/50\n",
      "54000/54000 [==============================] - 2s 31us/sample - loss: 0.0576 - val_loss: 0.1025\n",
      "Epoch 42/50\n",
      "54000/54000 [==============================] - 2s 29us/sample - loss: 0.0562 - val_loss: 0.1015\n",
      "Epoch 43/50\n",
      "54000/54000 [==============================] - 2s 32us/sample - loss: 0.0547 - val_loss: 0.1023\n",
      "Epoch 44/50\n",
      "54000/54000 [==============================] - 2s 30us/sample - loss: 0.0533 - val_loss: 0.1014\n",
      "Epoch 45/50\n",
      "54000/54000 [==============================] - 2s 29us/sample - loss: 0.0519 - val_loss: 0.1012\n",
      "Epoch 46/50\n",
      "54000/54000 [==============================] - 2s 29us/sample - loss: 0.0506 - val_loss: 0.1016\n",
      "Epoch 47/50\n",
      "54000/54000 [==============================] - 1s 27us/sample - loss: 0.0492 - val_loss: 0.1020\n",
      "Epoch 48/50\n",
      "54000/54000 [==============================] - 2s 33us/sample - loss: 0.0481 - val_loss: 0.1014\n",
      "Epoch 49/50\n",
      "54000/54000 [==============================] - 2s 31us/sample - loss: 0.0467 - val_loss: 0.1019\n",
      "Epoch 50/50\n",
      "54000/54000 [==============================] - 1s 26us/sample - loss: 0.0456 - val_loss: 0.1015\n"
     ]
    }
   ],
   "source": [
    "history = model.fit(X_train_centered, y_train_onehot,\n",
    "                   batch_size = 64, epochs = 50, verbose = 1,\n",
    "                   validation_split = 0.1)"
   ]
  },
  {
   "cell_type": "code",
   "execution_count": 19,
   "metadata": {},
   "outputs": [
    {
     "name": "stdout",
     "output_type": "stream",
     "text": [
      "처음 3개 예측 :  [5 0 4]\n"
     ]
    }
   ],
   "source": [
    "y_train_pred = model.predict_classes(X_train_centered, verbose = 0)\n",
    "print('처음 3개 예측 : ', y_train_pred[:3])"
   ]
  },
  {
   "cell_type": "code",
   "execution_count": 21,
   "metadata": {},
   "outputs": [
    {
     "name": "stdout",
     "output_type": "stream",
     "text": [
      "처음 3개 예측 :  [5 0 4]\n",
      "훈련 정확도 : 98.92%\n",
      "테스트 정확도 : 96.39%\n"
     ]
    }
   ],
   "source": [
    "y_train_pred = model.predict_classes(X_train_centered, verbose = 0)\n",
    "correct_preds = np.sum(y_train == y_train_pred, axis = 0)\n",
    "train_acc = correct_preds / y_train.shape[0]\n",
    "\n",
    "print('처음 3개 예측 : ', y_train_pred[:3])\n",
    "print('훈련 정확도 : %.2f%%' % (train_acc * 100))\n",
    "\n",
    "y_test_pred = model.predict_classes(X_test_centered, verbose = 0)\n",
    "correct_preds = np.sum(y_test == y_test_pred, axis = 0)\n",
    "test_acc = correct_preds / y_test.shape[0]\n",
    "print('테스트 정확도 : %.2f%%' % (test_acc * 100))"
   ]
  },
  {
   "cell_type": "code",
   "execution_count": null,
   "metadata": {},
   "outputs": [],
   "source": []
  }
 ],
 "metadata": {
  "kernelspec": {
   "display_name": "Python 3",
   "language": "python",
   "name": "python3"
  },
  "language_info": {
   "codemirror_mode": {
    "name": "ipython",
    "version": 3
   },
   "file_extension": ".py",
   "mimetype": "text/x-python",
   "name": "python",
   "nbconvert_exporter": "python",
   "pygments_lexer": "ipython3",
   "version": "3.7.9"
  }
 },
 "nbformat": 4,
 "nbformat_minor": 4
}
